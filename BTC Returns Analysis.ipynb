{
 "cells": [
  {
   "cell_type": "code",
   "execution_count": 1,
   "metadata": {},
   "outputs": [],
   "source": [
    "import pandas as pd \n",
    "import numpy as np \n",
    "from pandas.testing import assert_frame_equal\n",
    "from pandas_datareader import data as web\n",
    "\n",
    "# Import the plotting library\n",
    "import matplotlib as mpl\n",
    "import matplotlib.pyplot as plt \n",
    "import seaborn as sns\n",
    "plt.style.use('ggplot')\n",
    "%matplotlib inline"
   ]
  },
  {
   "cell_type": "code",
   "execution_count": 3,
   "metadata": {},
   "outputs": [
    {
     "data": {
      "text/html": [
       "<div>\n",
       "<style scoped>\n",
       "    .dataframe tbody tr th:only-of-type {\n",
       "        vertical-align: middle;\n",
       "    }\n",
       "\n",
       "    .dataframe tbody tr th {\n",
       "        vertical-align: top;\n",
       "    }\n",
       "\n",
       "    .dataframe thead th {\n",
       "        text-align: right;\n",
       "    }\n",
       "</style>\n",
       "<table border=\"1\" class=\"dataframe\">\n",
       "  <thead>\n",
       "    <tr style=\"text-align: right;\">\n",
       "      <th></th>\n",
       "      <th>Date</th>\n",
       "      <th>Close</th>\n",
       "      <th>Open</th>\n",
       "      <th>High</th>\n",
       "      <th>Low</th>\n",
       "    </tr>\n",
       "  </thead>\n",
       "  <tbody>\n",
       "    <tr>\n",
       "      <th>2611</th>\n",
       "      <td>12/3/20</td>\n",
       "      <td>19445.39844</td>\n",
       "      <td>19205.92578</td>\n",
       "      <td>19566.19141</td>\n",
       "      <td>18925.78516</td>\n",
       "    </tr>\n",
       "    <tr>\n",
       "      <th>2612</th>\n",
       "      <td>12/4/20</td>\n",
       "      <td>18699.76563</td>\n",
       "      <td>19446.96680</td>\n",
       "      <td>19511.40430</td>\n",
       "      <td>18697.19336</td>\n",
       "    </tr>\n",
       "    <tr>\n",
       "      <th>2613</th>\n",
       "      <td>12/5/20</td>\n",
       "      <td>19154.23047</td>\n",
       "      <td>18698.38477</td>\n",
       "      <td>19160.44922</td>\n",
       "      <td>18590.19336</td>\n",
       "    </tr>\n",
       "    <tr>\n",
       "      <th>2614</th>\n",
       "      <td>12/6/20</td>\n",
       "      <td>19345.12109</td>\n",
       "      <td>19154.17969</td>\n",
       "      <td>19390.50000</td>\n",
       "      <td>18897.89453</td>\n",
       "    </tr>\n",
       "    <tr>\n",
       "      <th>2615</th>\n",
       "      <td>12/7/20</td>\n",
       "      <td>19086.02930</td>\n",
       "      <td>19359.35742</td>\n",
       "      <td>19410.51172</td>\n",
       "      <td>18931.14258</td>\n",
       "    </tr>\n",
       "  </tbody>\n",
       "</table>\n",
       "</div>"
      ],
      "text/plain": [
       "         Date        Close         Open         High          Low\n",
       "2611  12/3/20  19445.39844  19205.92578  19566.19141  18925.78516\n",
       "2612  12/4/20  18699.76563  19446.96680  19511.40430  18697.19336\n",
       "2613  12/5/20  19154.23047  18698.38477  19160.44922  18590.19336\n",
       "2614  12/6/20  19345.12109  19154.17969  19390.50000  18897.89453\n",
       "2615  12/7/20  19086.02930  19359.35742  19410.51172  18931.14258"
      ]
     },
     "execution_count": 3,
     "metadata": {},
     "output_type": "execute_result"
    }
   ],
   "source": [
    "btc = pd.read_csv('btcusd_data.csv')\n",
    "btc.tail()"
   ]
  },
  {
   "cell_type": "code",
   "execution_count": 17,
   "metadata": {},
   "outputs": [],
   "source": [
    "#btc = btc.loc['2014-01-01':]"
   ]
  },
  {
   "cell_type": "code",
   "execution_count": 4,
   "metadata": {},
   "outputs": [
    {
     "data": {
      "text/html": [
       "<div>\n",
       "<style scoped>\n",
       "    .dataframe tbody tr th:only-of-type {\n",
       "        vertical-align: middle;\n",
       "    }\n",
       "\n",
       "    .dataframe tbody tr th {\n",
       "        vertical-align: top;\n",
       "    }\n",
       "\n",
       "    .dataframe thead th {\n",
       "        text-align: right;\n",
       "    }\n",
       "</style>\n",
       "<table border=\"1\" class=\"dataframe\">\n",
       "  <thead>\n",
       "    <tr style=\"text-align: right;\">\n",
       "      <th></th>\n",
       "      <th>Date</th>\n",
       "      <th>Close</th>\n",
       "      <th>Open</th>\n",
       "      <th>High</th>\n",
       "      <th>Low</th>\n",
       "    </tr>\n",
       "  </thead>\n",
       "  <tbody>\n",
       "    <tr>\n",
       "      <th>93</th>\n",
       "      <td>1/1/14</td>\n",
       "      <td>769.09849</td>\n",
       "      <td>768.40783</td>\n",
       "      <td>774.26333</td>\n",
       "      <td>750.52516</td>\n",
       "    </tr>\n",
       "    <tr>\n",
       "      <th>94</th>\n",
       "      <td>1/2/14</td>\n",
       "      <td>804.02719</td>\n",
       "      <td>769.09849</td>\n",
       "      <td>826.34166</td>\n",
       "      <td>768.15367</td>\n",
       "    </tr>\n",
       "    <tr>\n",
       "      <th>95</th>\n",
       "      <td>1/3/14</td>\n",
       "      <td>813.31748</td>\n",
       "      <td>804.02719</td>\n",
       "      <td>839.85833</td>\n",
       "      <td>798.11833</td>\n",
       "    </tr>\n",
       "    <tr>\n",
       "      <th>96</th>\n",
       "      <td>1/4/14</td>\n",
       "      <td>871.11583</td>\n",
       "      <td>813.31748</td>\n",
       "      <td>873.98000</td>\n",
       "      <td>808.71666</td>\n",
       "    </tr>\n",
       "    <tr>\n",
       "      <th>97</th>\n",
       "      <td>1/5/14</td>\n",
       "      <td>970.65083</td>\n",
       "      <td>871.11583</td>\n",
       "      <td>972.00354</td>\n",
       "      <td>861.25831</td>\n",
       "    </tr>\n",
       "  </tbody>\n",
       "</table>\n",
       "</div>"
      ],
      "text/plain": [
       "      Date      Close       Open       High        Low\n",
       "93  1/1/14  769.09849  768.40783  774.26333  750.52516\n",
       "94  1/2/14  804.02719  769.09849  826.34166  768.15367\n",
       "95  1/3/14  813.31748  804.02719  839.85833  798.11833\n",
       "96  1/4/14  871.11583  813.31748  873.98000  808.71666\n",
       "97  1/5/14  970.65083  871.11583  972.00354  861.25831"
      ]
     },
     "execution_count": 4,
     "metadata": {},
     "output_type": "execute_result"
    }
   ],
   "source": [
    "btc = btc[93:]\n",
    "btc.head()"
   ]
  },
  {
   "cell_type": "code",
   "execution_count": 5,
   "metadata": {},
   "outputs": [],
   "source": [
    "btc['Date'] = pd.to_datetime(btc['Date'])"
   ]
  },
  {
   "cell_type": "code",
   "execution_count": 6,
   "metadata": {},
   "outputs": [],
   "source": [
    "btc = btc.set_index('Date')"
   ]
  },
  {
   "cell_type": "code",
   "execution_count": 7,
   "metadata": {},
   "outputs": [],
   "source": [
    "returns = btc['Close'].pct_change()"
   ]
  },
  {
   "cell_type": "code",
   "execution_count": 8,
   "metadata": {},
   "outputs": [],
   "source": [
    "import monthly_returns_heatmap as mrh"
   ]
  },
  {
   "cell_type": "code",
   "execution_count": 9,
   "metadata": {},
   "outputs": [
    {
     "data": {
      "image/png": "[encoded data removed]",
      "text/plain": [
       "<Figure size 1440x504 with 2 Axes>"
      ]
     },
     "metadata": {
      "needs_background": "light"
     },
     "output_type": "display_data"
    }
   ],
   "source": [
    "mrh.plot(returns, figsize=(20,7))"
   ]
  },
  {
   "cell_type": "code",
   "execution_count": 10,
   "metadata": {},
   "outputs": [
    {
     "name": "stdout",
     "output_type": "stream",
     "text": [
      "Month       Jan       Feb       Mar       Apr       May       Jun       Jul  \\\n",
      "Year                                                                          \n",
      "2014   0.101762 -0.348887 -0.157414 -0.022206  0.403925  0.014039 -0.098486   \n",
      "2015  -0.316967  0.162793 -0.034250 -0.027209 -0.024715  0.133795  0.078787   \n",
      "2016  -0.139239  0.172693 -0.046775  0.079555  0.175775  0.293993 -0.090620   \n",
      "2017   0.009063  0.226651 -0.097229  0.272128  0.752365  0.032026  0.156753   \n",
      "2018  -0.258129  0.038287 -0.330869  0.292051 -0.163048 -0.153089  0.213897   \n",
      "2019  -0.072890  0.110811  0.077645  0.288846  0.613130  0.284159 -0.084796   \n",
      "2020   0.307651 -0.079806 -0.253851  0.360084  0.075276 -0.029618  0.243197   \n",
      "\n",
      "Month       Aug       Sep       Oct       Nov       Dec  \n",
      "Year                                                     \n",
      "2014  -0.186578 -0.182497 -0.128704  0.112783 -0.156669  \n",
      "2015  -0.188809  0.035464  0.314359  0.212046  0.144416  \n",
      "2016  -0.077913  0.065666  0.161110  0.049576  0.295957  \n",
      "2017   0.667973 -0.100899  0.493882  0.510792  0.384636  \n",
      "2018  -0.087314 -0.054217 -0.048993 -0.374782 -0.066512  \n",
      "2019  -0.038011 -0.143755  0.108001 -0.174034 -0.048033  \n",
      "2020   0.026822 -0.080216  0.293219  0.412823 -0.027505  \n"
     ]
    }
   ],
   "source": [
    "heatmap = mrh.get(returns) # <== or using direct call\n",
    "\n",
    "print(heatmap)"
   ]
  },
  {
   "cell_type": "code",
   "execution_count": 11,
   "metadata": {},
   "outputs": [],
   "source": [
    "btc_returns_month = pd.DataFrame(heatmap)"
   ]
  },
  {
   "cell_type": "code",
   "execution_count": null,
   "metadata": {},
   "outputs": [],
   "source": []
  },
  {
   "cell_type": "code",
   "execution_count": 12,
   "metadata": {},
   "outputs": [
    {
     "data": {
      "text/plain": [
       "Text(0.5, 0, 'Year')"
      ]
     },
     "execution_count": 12,
     "metadata": {},
     "output_type": "execute_result"
    },
    {
     "data": {
      "image/png": "[encoded data removed]",
      "text/plain": [
       "<Figure size 1440x576 with 1 Axes>"
      ]
     },
     "metadata": {
      "needs_background": "light"
     },
     "output_type": "display_data"
    }
   ],
   "source": [
    "btc_returns_month.plot(kind='bar', lw = 4,figsize=(20,8), cmap = 'tab20')\n",
    "plt.title('BTC Average Monthly Returns by Year', fontsize=24)\n",
    "plt.ylabel('Monthly Returns', fontsize=16)\n",
    "plt.xlabel('Year', fontsize=16)"
   ]
  },
  {
   "cell_type": "code",
   "execution_count": 13,
   "metadata": {},
   "outputs": [],
   "source": [
    "x = ['Jan', 'Feb', 'Mar', 'Apr', 'May', 'Jun', 'Jul', 'Aug', 'Sep', 'Oct', 'Nov', 'Dec']\n",
    "mean_returns = [btc_returns_month['Jan'].mean().round(5), btc_returns_month['Feb'].mean().round(5), btc_returns_month['Mar'].mean().round(5),\n",
    "                btc_returns_month['Apr'].mean().round(5), btc_returns_month['May'].mean().round(5), btc_returns_month['Jun'].mean().round(5),\n",
    "                btc_returns_month['Jul'].mean().round(5), btc_returns_month['Aug'].mean().round(5), btc_returns_month['Sep'].mean().round(5),\n",
    "                btc_returns_month['Oct'].mean().round(5), btc_returns_month['Nov'].mean().round(5), btc_returns_month['Dec'].mean().round(5)]"
   ]
  },
  {
   "cell_type": "code",
   "execution_count": 14,
   "metadata": {},
   "outputs": [],
   "source": [
    "returns_df = pd.DataFrame({'Month':x, 'Values':mean_returns})"
   ]
  },
  {
   "cell_type": "code",
   "execution_count": 15,
   "metadata": {},
   "outputs": [],
   "source": [
    "returns_df = returns_df.set_index('Month')"
   ]
  },
  {
   "cell_type": "code",
   "execution_count": 16,
   "metadata": {},
   "outputs": [],
   "source": [
    "returns_df['Values'] = returns_df['Values'] * 100"
   ]
  },
  {
   "cell_type": "code",
   "execution_count": 17,
   "metadata": {},
   "outputs": [
    {
     "data": {
      "text/plain": [
       "Text(0.5, 0, 'Month')"
      ]
     },
     "execution_count": 17,
     "metadata": {},
     "output_type": "execute_result"
    },
    {
     "data": {
      "image/png": "[encoded data removed]",
      "text/plain": [
       "<Figure size 1440x576 with 1 Axes>"
      ]
     },
     "metadata": {
      "needs_background": "light"
     },
     "output_type": "display_data"
    }
   ],
   "source": [
    "f, ax = plt.subplots(figsize=(20,8))\n",
    "\n",
    "returns_df['Values'].plot(kind = 'bar',  color=(returns_df['Values'] > 0).map({True: 'g', False: 'r'}))\n",
    "ax.set_title('Bitcoin Average Returns by Month', fontsize=24)\n",
    "ax.set_ylabel('Average Returns', fontsize=15)\n",
    "plt.xticks(rotation=45)\n",
    "ax.set_xlabel('Month', fontsize=15)"
   ]
  },
  {
   "cell_type": "code",
   "execution_count": 18,
   "metadata": {},
   "outputs": [],
   "source": [
    "btc['Pct_Change'] = btc['Close'].pct_change() * 100"
   ]
  },
  {
   "cell_type": "code",
   "execution_count": 19,
   "metadata": {},
   "outputs": [],
   "source": [
    "btc = btc.reset_index()"
   ]
  },
  {
   "cell_type": "code",
   "execution_count": 20,
   "metadata": {},
   "outputs": [
    {
     "data": {
      "text/html": [
       "<div>\n",
       "<style scoped>\n",
       "    .dataframe tbody tr th:only-of-type {\n",
       "        vertical-align: middle;\n",
       "    }\n",
       "\n",
       "    .dataframe tbody tr th {\n",
       "        vertical-align: top;\n",
       "    }\n",
       "\n",
       "    .dataframe thead th {\n",
       "        text-align: right;\n",
       "    }\n",
       "</style>\n",
       "<table border=\"1\" class=\"dataframe\">\n",
       "  <thead>\n",
       "    <tr style=\"text-align: right;\">\n",
       "      <th></th>\n",
       "      <th>Date</th>\n",
       "      <th>Close</th>\n",
       "      <th>Open</th>\n",
       "      <th>High</th>\n",
       "      <th>Low</th>\n",
       "      <th>Pct_Change</th>\n",
       "      <th>Day of Week</th>\n",
       "    </tr>\n",
       "  </thead>\n",
       "  <tbody>\n",
       "    <tr>\n",
       "      <th>2518</th>\n",
       "      <td>2020-12-03</td>\n",
       "      <td>19445.39844</td>\n",
       "      <td>19205.92578</td>\n",
       "      <td>19566.19141</td>\n",
       "      <td>18925.78516</td>\n",
       "      <td>1.272358</td>\n",
       "      <td>3</td>\n",
       "    </tr>\n",
       "    <tr>\n",
       "      <th>2519</th>\n",
       "      <td>2020-12-04</td>\n",
       "      <td>18699.76563</td>\n",
       "      <td>19446.96680</td>\n",
       "      <td>19511.40430</td>\n",
       "      <td>18697.19336</td>\n",
       "      <td>-3.834495</td>\n",
       "      <td>4</td>\n",
       "    </tr>\n",
       "    <tr>\n",
       "      <th>2520</th>\n",
       "      <td>2020-12-05</td>\n",
       "      <td>19154.23047</td>\n",
       "      <td>18698.38477</td>\n",
       "      <td>19160.44922</td>\n",
       "      <td>18590.19336</td>\n",
       "      <td>2.430324</td>\n",
       "      <td>5</td>\n",
       "    </tr>\n",
       "    <tr>\n",
       "      <th>2521</th>\n",
       "      <td>2020-12-06</td>\n",
       "      <td>19345.12109</td>\n",
       "      <td>19154.17969</td>\n",
       "      <td>19390.50000</td>\n",
       "      <td>18897.89453</td>\n",
       "      <td>0.996598</td>\n",
       "      <td>6</td>\n",
       "    </tr>\n",
       "    <tr>\n",
       "      <th>2522</th>\n",
       "      <td>2020-12-07</td>\n",
       "      <td>19086.02930</td>\n",
       "      <td>19359.35742</td>\n",
       "      <td>19410.51172</td>\n",
       "      <td>18931.14258</td>\n",
       "      <td>-1.339313</td>\n",
       "      <td>0</td>\n",
       "    </tr>\n",
       "  </tbody>\n",
       "</table>\n",
       "</div>"
      ],
      "text/plain": [
       "           Date        Close         Open         High          Low  \\\n",
       "2518 2020-12-03  19445.39844  19205.92578  19566.19141  18925.78516   \n",
       "2519 2020-12-04  18699.76563  19446.96680  19511.40430  18697.19336   \n",
       "2520 2020-12-05  19154.23047  18698.38477  19160.44922  18590.19336   \n",
       "2521 2020-12-06  19345.12109  19154.17969  19390.50000  18897.89453   \n",
       "2522 2020-12-07  19086.02930  19359.35742  19410.51172  18931.14258   \n",
       "\n",
       "      Pct_Change  Day of Week  \n",
       "2518    1.272358            3  \n",
       "2519   -3.834495            4  \n",
       "2520    2.430324            5  \n",
       "2521    0.996598            6  \n",
       "2522   -1.339313            0  "
      ]
     },
     "execution_count": 20,
     "metadata": {},
     "output_type": "execute_result"
    }
   ],
   "source": [
    "btc['Day of Week'] = btc['Date'].apply(lambda time: time.dayofweek)\n",
    "btc.tail()"
   ]
  },
  {
   "cell_type": "code",
   "execution_count": 21,
   "metadata": {},
   "outputs": [
    {
     "data": {
      "text/plain": [
       "([<matplotlib.axis.XTick at 0x7fda11ecdbd0>,\n",
       "  <matplotlib.axis.XTick at 0x7fda11ee7450>,\n",
       "  <matplotlib.axis.XTick at 0x7fda0a823510>,\n",
       "  <matplotlib.axis.XTick at 0x7fda0a84d090>,\n",
       "  <matplotlib.axis.XTick at 0x7fda0a84d550>,\n",
       "  <matplotlib.axis.XTick at 0x7fda0a84d050>,\n",
       "  <matplotlib.axis.XTick at 0x7fda0a84d0d0>],\n",
       " [Text(0, 0, 'Monday'),\n",
       "  Text(1, 0, 'Tuesday'),\n",
       "  Text(2, 0, 'Wednesday'),\n",
       "  Text(3, 0, 'Thursday'),\n",
       "  Text(4, 0, 'Friday'),\n",
       "  Text(5, 0, 'Saturday'),\n",
       "  Text(6, 0, 'Sunday')])"
      ]
     },
     "execution_count": 21,
     "metadata": {},
     "output_type": "execute_result"
    },
    {
     "data": {
      "image/png": "[encoded data removed]",
      "text/plain": [
       "<Figure size 1440x576 with 1 Axes>"
      ]
     },
     "metadata": {
      "needs_background": "light"
     },
     "output_type": "display_data"
    }
   ],
   "source": [
    "btc[['Day of Week', 'Pct_Change']].groupby('Day of Week').mean().plot(kind='bar', legend=None, cmap='coolwarm', figsize=(20,8))\n",
    "plt.title('BTC Average Returns by Day', fontsize=20)\n",
    "plt.ylabel('Average Returns')\n",
    "plt.xticks([0, 1, 2, 3,4,5,6], ['Monday', 'Tuesday', 'Wednesday', 'Thursday', 'Friday', 'Saturday', 'Sunday'], rotation=20)"
   ]
  },
  {
   "cell_type": "code",
   "execution_count": 22,
   "metadata": {},
   "outputs": [],
   "source": [
    "btc_yrly = btc.copy()"
   ]
  },
  {
   "cell_type": "code",
   "execution_count": 27,
   "metadata": {},
   "outputs": [],
   "source": [
    "btc_yrly = btc_yrly.set_index('Date')"
   ]
  },
  {
   "cell_type": "code",
   "execution_count": 28,
   "metadata": {},
   "outputs": [
    {
     "data": {
      "text/html": [
       "<div>\n",
       "<style scoped>\n",
       "    .dataframe tbody tr th:only-of-type {\n",
       "        vertical-align: middle;\n",
       "    }\n",
       "\n",
       "    .dataframe tbody tr th {\n",
       "        vertical-align: top;\n",
       "    }\n",
       "\n",
       "    .dataframe thead th {\n",
       "        text-align: right;\n",
       "    }\n",
       "</style>\n",
       "<table border=\"1\" class=\"dataframe\">\n",
       "  <thead>\n",
       "    <tr style=\"text-align: right;\">\n",
       "      <th></th>\n",
       "      <th>Close</th>\n",
       "      <th>Open</th>\n",
       "      <th>High</th>\n",
       "      <th>Low</th>\n",
       "      <th>Pct_Change</th>\n",
       "      <th>Day of Week</th>\n",
       "    </tr>\n",
       "    <tr>\n",
       "      <th>Date</th>\n",
       "      <th></th>\n",
       "      <th></th>\n",
       "      <th></th>\n",
       "      <th></th>\n",
       "      <th></th>\n",
       "      <th></th>\n",
       "    </tr>\n",
       "  </thead>\n",
       "  <tbody>\n",
       "    <tr>\n",
       "      <th>2016-12-31</th>\n",
       "      <td>2.077697e+05</td>\n",
       "      <td>2.072377e+05</td>\n",
       "      <td>2.100757e+05</td>\n",
       "      <td>2.044368e+05</td>\n",
       "      <td>90.546079</td>\n",
       "      <td>1101</td>\n",
       "    </tr>\n",
       "    <tr>\n",
       "      <th>2017-12-31</th>\n",
       "      <td>1.454898e+06</td>\n",
       "      <td>1.442423e+06</td>\n",
       "      <td>1.508426e+06</td>\n",
       "      <td>1.380652e+06</td>\n",
       "      <td>311.056110</td>\n",
       "      <td>1098</td>\n",
       "    </tr>\n",
       "    <tr>\n",
       "      <th>2018-12-31</th>\n",
       "      <td>2.681076e+06</td>\n",
       "      <td>2.690409e+06</td>\n",
       "      <td>2.769973e+06</td>\n",
       "      <td>2.598497e+06</td>\n",
       "      <td>-89.800687</td>\n",
       "      <td>1053</td>\n",
       "    </tr>\n",
       "    <tr>\n",
       "      <th>2019-12-31</th>\n",
       "      <td>2.679158e+06</td>\n",
       "      <td>2.674515e+06</td>\n",
       "      <td>2.744170e+06</td>\n",
       "      <td>2.601679e+06</td>\n",
       "      <td>89.861258</td>\n",
       "      <td>1092</td>\n",
       "    </tr>\n",
       "    <tr>\n",
       "      <th>2020-12-31</th>\n",
       "      <td>3.524410e+06</td>\n",
       "      <td>3.511703e+06</td>\n",
       "      <td>3.589292e+06</td>\n",
       "      <td>3.430560e+06</td>\n",
       "      <td>119.646058</td>\n",
       "      <td>1028</td>\n",
       "    </tr>\n",
       "  </tbody>\n",
       "</table>\n",
       "</div>"
      ],
      "text/plain": [
       "                   Close          Open          High           Low  \\\n",
       "Date                                                                 \n",
       "2016-12-31  2.077697e+05  2.072377e+05  2.100757e+05  2.044368e+05   \n",
       "2017-12-31  1.454898e+06  1.442423e+06  1.508426e+06  1.380652e+06   \n",
       "2018-12-31  2.681076e+06  2.690409e+06  2.769973e+06  2.598497e+06   \n",
       "2019-12-31  2.679158e+06  2.674515e+06  2.744170e+06  2.601679e+06   \n",
       "2020-12-31  3.524410e+06  3.511703e+06  3.589292e+06  3.430560e+06   \n",
       "\n",
       "            Pct_Change  Day of Week  \n",
       "Date                                 \n",
       "2016-12-31   90.546079         1101  \n",
       "2017-12-31  311.056110         1098  \n",
       "2018-12-31  -89.800687         1053  \n",
       "2019-12-31   89.861258         1092  \n",
       "2020-12-31  119.646058         1028  "
      ]
     },
     "execution_count": 28,
     "metadata": {},
     "output_type": "execute_result"
    }
   ],
   "source": [
    "btc_yrly = btc_yrly.resample('Y').sum()\n",
    "btc_yrly.tail()"
   ]
  },
  {
   "cell_type": "code",
   "execution_count": 35,
   "metadata": {},
   "outputs": [
    {
     "data": {
      "text/plain": [
       "-0.58777633289987"
      ]
     },
     "execution_count": 35,
     "metadata": {},
     "output_type": "execute_result"
    }
   ],
   "source": [
    "(317/769) - 1"
   ]
  },
  {
   "cell_type": "code",
   "execution_count": 36,
   "metadata": {},
   "outputs": [
    {
     "data": {
      "text/html": [
       "<div>\n",
       "<style scoped>\n",
       "    .dataframe tbody tr th:only-of-type {\n",
       "        vertical-align: middle;\n",
       "    }\n",
       "\n",
       "    .dataframe tbody tr th {\n",
       "        vertical-align: top;\n",
       "    }\n",
       "\n",
       "    .dataframe thead th {\n",
       "        text-align: right;\n",
       "    }\n",
       "</style>\n",
       "<table border=\"1\" class=\"dataframe\">\n",
       "  <thead>\n",
       "    <tr style=\"text-align: right;\">\n",
       "      <th></th>\n",
       "      <th>High</th>\n",
       "      <th>Low</th>\n",
       "      <th>Open</th>\n",
       "      <th>Close</th>\n",
       "      <th>Volume</th>\n",
       "      <th>Adj Close</th>\n",
       "    </tr>\n",
       "    <tr>\n",
       "      <th>Date</th>\n",
       "      <th></th>\n",
       "      <th></th>\n",
       "      <th></th>\n",
       "      <th></th>\n",
       "      <th></th>\n",
       "      <th></th>\n",
       "    </tr>\n",
       "  </thead>\n",
       "  <tbody>\n",
       "    <tr>\n",
       "      <th>2014-09-16</th>\n",
       "      <td>468.174011</td>\n",
       "      <td>452.421997</td>\n",
       "      <td>465.864014</td>\n",
       "      <td>457.334015</td>\n",
       "      <td>21056800</td>\n",
       "      <td>457.334015</td>\n",
       "    </tr>\n",
       "    <tr>\n",
       "      <th>2014-09-17</th>\n",
       "      <td>456.859985</td>\n",
       "      <td>413.104004</td>\n",
       "      <td>456.859985</td>\n",
       "      <td>424.440002</td>\n",
       "      <td>34483200</td>\n",
       "      <td>424.440002</td>\n",
       "    </tr>\n",
       "    <tr>\n",
       "      <th>2014-09-18</th>\n",
       "      <td>427.834991</td>\n",
       "      <td>384.532013</td>\n",
       "      <td>424.102997</td>\n",
       "      <td>394.795990</td>\n",
       "      <td>37919700</td>\n",
       "      <td>394.795990</td>\n",
       "    </tr>\n",
       "    <tr>\n",
       "      <th>2014-09-19</th>\n",
       "      <td>423.295990</td>\n",
       "      <td>389.882996</td>\n",
       "      <td>394.673004</td>\n",
       "      <td>408.903992</td>\n",
       "      <td>36863600</td>\n",
       "      <td>408.903992</td>\n",
       "    </tr>\n",
       "    <tr>\n",
       "      <th>2014-09-20</th>\n",
       "      <td>412.425995</td>\n",
       "      <td>393.181000</td>\n",
       "      <td>408.084991</td>\n",
       "      <td>398.821014</td>\n",
       "      <td>26580100</td>\n",
       "      <td>398.821014</td>\n",
       "    </tr>\n",
       "  </tbody>\n",
       "</table>\n",
       "</div>"
      ],
      "text/plain": [
       "                  High         Low        Open       Close    Volume  \\\n",
       "Date                                                                   \n",
       "2014-09-16  468.174011  452.421997  465.864014  457.334015  21056800   \n",
       "2014-09-17  456.859985  413.104004  456.859985  424.440002  34483200   \n",
       "2014-09-18  427.834991  384.532013  424.102997  394.795990  37919700   \n",
       "2014-09-19  423.295990  389.882996  394.673004  408.903992  36863600   \n",
       "2014-09-20  412.425995  393.181000  408.084991  398.821014  26580100   \n",
       "\n",
       "             Adj Close  \n",
       "Date                    \n",
       "2014-09-16  457.334015  \n",
       "2014-09-17  424.440002  \n",
       "2014-09-18  394.795990  \n",
       "2014-09-19  408.903992  \n",
       "2014-09-20  398.821014  "
      ]
     },
     "execution_count": 36,
     "metadata": {},
     "output_type": "execute_result"
    }
   ],
   "source": [
    "# Define dataframe variable\n",
    "bit = pd.DataFrame()\n",
    "\n",
    "# Define stock that will be analysed\n",
    "asset = 'BTC-USD'\n",
    " \n",
    "# Import data into dataframe\n",
    "bit = web.DataReader(asset, data_source='yahoo', start='01-01-1993')\n",
    "\n",
    "bit.head()"
   ]
  },
  {
   "cell_type": "code",
   "execution_count": 79,
   "metadata": {},
   "outputs": [],
   "source": [
    "b2014 = btc[:365]"
   ]
  },
  {
   "cell_type": "code",
   "execution_count": 80,
   "metadata": {},
   "outputs": [],
   "source": [
    "ret_14 = ((b2014['Close'].iloc[-1] / b2014['Close'].iloc[0]) - 1) * 100"
   ]
  },
  {
   "cell_type": "code",
   "execution_count": 81,
   "metadata": {},
   "outputs": [],
   "source": [
    "b2015 = bit.loc['2015-01-01':'2015-12-31']"
   ]
  },
  {
   "cell_type": "code",
   "execution_count": 82,
   "metadata": {},
   "outputs": [],
   "source": [
    "ret_15 = ((b2015['Close'].iloc[-1] / b2015['Close'].iloc[0]) - 1) * 100"
   ]
  },
  {
   "cell_type": "code",
   "execution_count": 83,
   "metadata": {},
   "outputs": [],
   "source": [
    "b2016 = bit.loc['2016-01-01':'2016-12-31']"
   ]
  },
  {
   "cell_type": "code",
   "execution_count": 84,
   "metadata": {},
   "outputs": [],
   "source": [
    "ret_16 = ((b2016['Close'].iloc[-1] / b2016['Close'].iloc[0]) - 1) * 100"
   ]
  },
  {
   "cell_type": "code",
   "execution_count": 85,
   "metadata": {},
   "outputs": [],
   "source": [
    "b2017 = bit.loc['2017-01-01':'2017-12-31']"
   ]
  },
  {
   "cell_type": "code",
   "execution_count": 86,
   "metadata": {},
   "outputs": [],
   "source": [
    "ret_17 = ((b2017['Close'].iloc[-1] / b2017['Close'].iloc[0]) - 1) * 100"
   ]
  },
  {
   "cell_type": "code",
   "execution_count": 87,
   "metadata": {},
   "outputs": [],
   "source": [
    "b2018 = bit.loc['2018-01-01':'2018-12-31']"
   ]
  },
  {
   "cell_type": "code",
   "execution_count": 88,
   "metadata": {},
   "outputs": [],
   "source": [
    "ret_18 = ((b2018['Close'].iloc[-1] / b2018['Close'].iloc[0]) - 1) * 100"
   ]
  },
  {
   "cell_type": "code",
   "execution_count": 89,
   "metadata": {},
   "outputs": [],
   "source": [
    "b2019 = bit.loc['2019-01-01':'2019-12-31']"
   ]
  },
  {
   "cell_type": "code",
   "execution_count": 90,
   "metadata": {},
   "outputs": [],
   "source": [
    "ret_19 =((b2019['Close'].iloc[-1] / b2019['Close'].iloc[0]) - 1) * 100"
   ]
  },
  {
   "cell_type": "code",
   "execution_count": 91,
   "metadata": {},
   "outputs": [],
   "source": [
    "b2020 = bit.loc['2020-01-01':'2020-12-31']"
   ]
  },
  {
   "cell_type": "code",
   "execution_count": 92,
   "metadata": {},
   "outputs": [],
   "source": [
    "ret_20 = ((b2020['Close'].iloc[-1] / b2020['Close'].iloc[0]) - 1) * 100"
   ]
  },
  {
   "cell_type": "code",
   "execution_count": 94,
   "metadata": {},
   "outputs": [],
   "source": [
    "x = ['2014', '2015', '2016', '2017', '2018', '2019', '2020']\n",
    "rets = [ret_14, ret_15, ret_16, ret_17, ret_18, ret_19, ret_20]\n",
    "\n",
    "rets_df = pd.DataFrame({'Year':x, 'Yrly_Returns':rets})"
   ]
  },
  {
   "cell_type": "code",
   "execution_count": 95,
   "metadata": {},
   "outputs": [],
   "source": [
    "rets_df = rets_df.set_index('Year')"
   ]
  },
  {
   "cell_type": "code",
   "execution_count": 98,
   "metadata": {},
   "outputs": [
    {
     "data": {
      "text/plain": [
       "Text(0.5, 0, 'Year')"
      ]
     },
     "execution_count": 98,
     "metadata": {},
     "output_type": "execute_result"
    },
    {
     "data": {
      "image/png": "[encoded data removed]",
      "text/plain": [
       "<Figure size 1440x576 with 1 Axes>"
      ]
     },
     "metadata": {
      "needs_background": "light"
     },
     "output_type": "display_data"
    }
   ],
   "source": [
    "f, ax = plt.subplots(figsize=(20,8))\n",
    "\n",
    "rets_df['Yrly_Returns'].plot(kind = 'bar',  color=(rets_df['Yrly_Returns'] > 0).map({True: 'g', False: 'r'}))\n",
    "ax.set_title('Bitcoin Yearly Returns', fontsize=24)\n",
    "ax.set_ylabel('Yearly Returns in %', fontsize=15)\n",
    "plt.xticks(rotation=45)\n",
    "ax.set_xlabel('Year', fontsize=15)"
   ]
  },
  {
   "cell_type": "code",
   "execution_count": null,
   "metadata": {},
   "outputs": [],
   "source": []
  }
 ],
 "metadata": {
  "kernelspec": {
   "display_name": "Python 3",
   "language": "python",
   "name": "python3"
  },
  "language_info": {
   "codemirror_mode": {
    "name": "ipython",
    "version": 3
   },
   "file_extension": ".py",
   "mimetype": "text/x-python",
   "name": "python",
   "nbconvert_exporter": "python",
   "pygments_lexer": "ipython3",
   "version": "3.8.3"
  }
 },
 "nbformat": 4,
 "nbformat_minor": 4
}
